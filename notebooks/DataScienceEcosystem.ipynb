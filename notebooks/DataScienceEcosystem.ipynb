{
 "cells": [
  {
   "cell_type": "markdown",
   "id": "cc40e417-54a9-4576-b6c1-9f6cfb661eea",
   "metadata": {},
   "source": [
    "# Data Science Tools and Ecosystem"
   ]
  },
  {
   "cell_type": "markdown",
   "id": "51d345e6-bad0-4b65-8761-cabece83425e",
   "metadata": {},
   "source": [
    "In this notebook, Data Science Tools and Ecosystem are summarized."
   ]
  },
  {
   "cell_type": "markdown",
   "id": "c1ce5c5b-31e9-4005-9a86-784bb14ba59c",
   "metadata": {},
   "source": [
    "**Objectives:**\n",
    "- List popular languages for Data Science\n",
    "- List popular libraries for Data Science\n",
    "- Show markdown cell outputs\n",
    "- Show code cell with arithmetic expressions outputs \n",
    "- Final Assignment Instructions: Create and Share Your Jupyter Notebook"
   ]
  },
  {
   "cell_type": "markdown",
   "id": "03e3d45d-0245-48d0-aa28-0b24e2153d06",
   "metadata": {},
   "source": [
    "Some of the popular languages that Data Scientists use are:"
   ]
  },
  {
   "cell_type": "markdown",
   "id": "08c986bd-93d9-41ec-b553-925589b1bb9f",
   "metadata": {
    "tags": []
   },
   "source": [
    "1. Python\n",
    "2. R\n",
    "3. Julia\n",
    "4. Java"
   ]
  },
  {
   "cell_type": "markdown",
   "id": "735d4a1a-f843-4c24-a9ea-f0f63f8b944d",
   "metadata": {},
   "source": [
    "Some of the commonly used libraries used by Data Scientists include:"
   ]
  },
  {
   "cell_type": "markdown",
   "id": "9a51c5a4-e6eb-4461-9599-28f316e44d49",
   "metadata": {
    "tags": []
   },
   "source": [
    "1. Numpy\n",
    "2. Pandas\n",
    "3. Plotly\n",
    "4. Ggplot"
   ]
  },
  {
   "cell_type": "markdown",
   "id": "a6964aaf-182f-4f0c-bcd6-702d9ba76bd7",
   "metadata": {
    "tags": []
   },
   "source": [
    "| Data Science Tools |\n",
    "| -------------|\n",
    "| Jupyter |\n",
    "| Jupyter Lab |\n",
    "| RStudio |"
   ]
  },
  {
   "cell_type": "markdown",
   "id": "b5c8ab37-38f0-4dd9-8a30-9907e8b9f221",
   "metadata": {},
   "source": [
    "### Below are a few examples of evaluating arithmetic expressions in Python"
   ]
  },
  {
   "cell_type": "code",
   "execution_count": 1,
   "id": "e6ded3fe-c667-461c-901d-401bb7f94bf6",
   "metadata": {
    "tags": []
   },
   "outputs": [
    {
     "data": {
      "text/plain": [
       "17"
      ]
     },
     "execution_count": 1,
     "metadata": {},
     "output_type": "execute_result"
    }
   ],
   "source": [
    "# This a simple arithmetic expression to mutiply then add integers\n",
    "(3*4)+5"
   ]
  },
  {
   "cell_type": "code",
   "execution_count": 2,
   "id": "a8842c81-a895-41d3-bd17-4e3b052665d9",
   "metadata": {
    "tags": []
   },
   "outputs": [
    {
     "data": {
      "text/plain": [
       "3.3333333333333335"
      ]
     },
     "execution_count": 2,
     "metadata": {},
     "output_type": "execute_result"
    }
   ],
   "source": [
    "# This will convert 200 minutes to hours by diving by 60\n",
    "200/60"
   ]
  },
  {
   "cell_type": "markdown",
   "id": "df0f6a32-d47c-42b8-8f9b-9b705476ffc0",
   "metadata": {},
   "source": [
    "## Author\n",
    "Eduardo Henrique Vieira dos Santos"
   ]
  },
  {
   "cell_type": "code",
   "execution_count": null,
   "id": "4d5abfcd-4ab2-4dbc-84dd-e88999010e69",
   "metadata": {},
   "outputs": [],
   "source": []
  }
 ],
 "metadata": {
  "kernelspec": {
   "display_name": "Python",
   "language": "python",
   "name": "conda-env-python-py"
  },
  "language_info": {
   "codemirror_mode": {
    "name": "ipython",
    "version": 3
   },
   "file_extension": ".py",
   "mimetype": "text/x-python",
   "name": "python",
   "nbconvert_exporter": "python",
   "pygments_lexer": "ipython3",
   "version": "3.7.12"
  }
 },
 "nbformat": 4,
 "nbformat_minor": 5
}
